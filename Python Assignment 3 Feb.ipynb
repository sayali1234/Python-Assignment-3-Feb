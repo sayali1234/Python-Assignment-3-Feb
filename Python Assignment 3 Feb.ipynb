{
 "cells": [
  {
   "cell_type": "markdown",
   "id": "3e18f9c4-fdfa-4572-8344-7ffae1e511eb",
   "metadata": {},
   "source": [
    "Q1) Which keyword is used to create a function? Create a function to return a list of odd numbers in the\n",
    "range of 1 to 25."
   ]
  },
  {
   "cell_type": "code",
   "execution_count": 1,
   "id": "53cab3fe-be16-46ec-926a-9a1ad0cfa496",
   "metadata": {},
   "outputs": [
    {
     "name": "stdout",
     "output_type": "stream",
     "text": [
      "[1, 3, 5, 7, 9, 11, 13, 15, 17, 19, 21, 23, 25]\n"
     ]
    }
   ],
   "source": [
    "def odd_numbers():\n",
    "    lst = [num for num in range(1,26,2)]\n",
    "    return lst\n",
    "\n",
    "ans = odd_numbers()\n",
    "print(ans)"
   ]
  },
  {
   "cell_type": "markdown",
   "id": "e46e6758-ed3d-412b-b116-5334b61c1d17",
   "metadata": {},
   "source": [
    "Q2) Why *args and **kwargs is used in some functions? Create a function each for *args and **kwargs\n",
    "to demonstrate their use."
   ]
  },
  {
   "cell_type": "code",
   "execution_count": null,
   "id": "a53e5de1-4a60-40eb-8d02-85da63952fd9",
   "metadata": {},
   "outputs": [],
   "source": [
    "In Python, we can pass a variable number of arguments to a function using special symbols. There are two special symbols:\n",
    "\n",
    "args (Non Keyword Arguments) *kwargs (Keyword Arguments)"
   ]
  },
  {
   "cell_type": "code",
   "execution_count": 2,
   "id": "63c7a4e1-7cb6-4b28-9338-f04b8c80e010",
   "metadata": {},
   "outputs": [
    {
     "name": "stdout",
     "output_type": "stream",
     "text": [
      "Sum: 8\n",
      "Sum: 22\n",
      "Sum: 17\n"
     ]
    }
   ],
   "source": [
    "# Use of *args\n",
    "\n",
    "def adder(*num):\n",
    "    sum = 0\n",
    "    \n",
    "    for n in num:\n",
    "        sum = sum + n\n",
    "\n",
    "    print(\"Sum:\",sum)\n",
    "\n",
    "adder(3,5)\n",
    "adder(4,5,6,7)\n",
    "adder(1,2,3,5,6)"
   ]
  },
  {
   "cell_type": "code",
   "execution_count": 3,
   "id": "9a2cc4c0-6f31-4202-a5b3-434b22c934cb",
   "metadata": {},
   "outputs": [
    {
     "name": "stdout",
     "output_type": "stream",
     "text": [
      "\n",
      "Data type of argument: <class 'dict'>\n",
      "Firstname is Sita\n",
      "Lastname is Sharma\n",
      "Age is 22\n",
      "Phone is 1234567890\n",
      "\n",
      "Data type of argument: <class 'dict'>\n",
      "Firstname is John\n",
      "Lastname is Wood\n",
      "Email is johnwood@nomail.com\n",
      "Country is Wakanda\n",
      "Age is 25\n",
      "Phone is 987654321\n"
     ]
    }
   ],
   "source": [
    "# Use of kwargs\n",
    "\n",
    "def intro(**data):\n",
    "    print(\"\\nData type of argument:\",type(data))\n",
    "\n",
    "    for key, value in data.items():\n",
    "        print(\"{} is {}\".format(key,value))\n",
    "\n",
    "intro(Firstname=\"Sita\", Lastname=\"Sharma\", Age=22, Phone=1234567890)\n",
    "intro(Firstname=\"John\", Lastname=\"Wood\", Email=\"johnwood@nomail.com\", Country=\"Wakanda\", Age=25, Phone=987654321)"
   ]
  },
  {
   "cell_type": "markdown",
   "id": "63238510-26c1-43cd-87c3-01628af4c861",
   "metadata": {},
   "source": [
    "Q3) What is an iterator in python? Name the method used to initialise the iterator object and the method\n",
    "used for iteration. Use these methods to print the first five elements of the given list [2, 4, 6, 8, 10, 12, 14,\n",
    "16, 18, 20]."
   ]
  },
  {
   "cell_type": "code",
   "execution_count": null,
   "id": "182098f9-3ac4-4cd0-9f36-c418aba01790",
   "metadata": {},
   "outputs": [],
   "source": [
    "Iterator in Python is an object that is used to iterate over iterable objects like lists, tuples, dicts, and sets. The iterator object is initialized using the \n",
    "iter() method. It uses the next() method for iteration.\n",
    "\n",
    "iter(): The iter() method is called for the initialization of an iterator. This returns an iterator object next(): The next method returns the next value for the\n",
    "iterable. When we use a for loop to traverse any iterable object, internally it uses the iter() method to get an iterator object, which further uses the next()\n",
    "method to iterate over. This method raises a StopIteration to signal the end of the iteration."
   ]
  },
  {
   "cell_type": "code",
   "execution_count": 4,
   "id": "665afcbd-7353-49fb-8207-5ffd88b8241e",
   "metadata": {},
   "outputs": [
    {
     "name": "stdout",
     "output_type": "stream",
     "text": [
      "2\n",
      "4\n",
      "6\n",
      "8\n",
      "10\n"
     ]
    }
   ],
   "source": [
    "lst = [2, 4, 6, 8, 10, 12, 14,16, 18, 20]\n",
    "lst_iter = iter(lst)\n",
    "\n",
    "print(next(lst_iter))\n",
    "print(next(lst_iter))\n",
    "print(next(lst_iter))\n",
    "print(next(lst_iter))\n",
    "print(next(lst_iter))"
   ]
  },
  {
   "cell_type": "markdown",
   "id": "1b03ef84-56ba-42dc-baf5-51f9829f8c2e",
   "metadata": {},
   "source": [
    "Q4) What is a generator function in python? Why yield keyword is used? Give an example of a generator\n",
    "function."
   ]
  },
  {
   "cell_type": "code",
   "execution_count": null,
   "id": "c233b53a-d490-4709-a789-c56ac0d580c8",
   "metadata": {},
   "outputs": [],
   "source": [
    "In Python, a generator is a function that returns an iterator that produces a sequence of values when iterated over. Generators are useful when we want to produce\n",
    "a large sequence of values, but we don't want to store all of them in memory at once.\n",
    "\n",
    "In Python, similar to defining a normal function, we can define a generator function using the def keyword, but instead of the return statement we use the YIELD\n",
    "statement.\n",
    "\n",
    "EX: def generator_name(arg): statements yield something\n",
    "\n",
    "Here, the yield keyword is used to produce a value from the generator.\n",
    "\n",
    "When the generator function is called, it does not execute the function body immediately. Instead, it returns a generator object that can be iterated over to\n",
    "produce the values."
   ]
  },
  {
   "cell_type": "code",
   "execution_count": 5,
   "id": "c362cb24-1c9c-4d63-b1b7-0ee158a37cb6",
   "metadata": {},
   "outputs": [
    {
     "name": "stdout",
     "output_type": "stream",
     "text": [
      "0\n",
      "1\n",
      "2\n"
     ]
    }
   ],
   "source": [
    "def my_generator(n):\n",
    "\n",
    "    # initialize counter\n",
    "    value = 0\n",
    "\n",
    "    # loop until counter is less than n\n",
    "    while value < n:\n",
    "\n",
    "        # produce the current value of the counter\n",
    "        yield value\n",
    "\n",
    "        # increment the counter\n",
    "        value += 1\n",
    "\n",
    "# iterate over the generator object produced by my_generator\n",
    "for value in my_generator(3):\n",
    "\n",
    "    # print each value produced by generator\n",
    "    print(value)"
   ]
  },
  {
   "cell_type": "markdown",
   "id": "c5aa2ad7-387a-4680-9fa3-90caef6e8a5e",
   "metadata": {},
   "source": [
    "Q5) Create a generator function for prime numbers less than 1000. Use the next() method to print the\n",
    "first 20 prime numbers."
   ]
  },
  {
   "cell_type": "code",
   "execution_count": 6,
   "id": "33fe4b61-d6c5-4ba7-ae95-2e7206176318",
   "metadata": {},
   "outputs": [
    {
     "name": "stdout",
     "output_type": "stream",
     "text": [
      "2 3 5 7 9 11 13 15 17 19 21 23 27 29 31 33 37 39 41 43 "
     ]
    }
   ],
   "source": [
    "def isPrime(num):\n",
    "    is_prime = True\n",
    "    for div  in range(4, int(num**0.5) + 1):\n",
    "        if num % div == 0:\n",
    "            is_prime = False\n",
    "            return is_prime\n",
    "        \n",
    "    return is_prime\n",
    "        \n",
    "\n",
    "def prime_numbers():\n",
    "    yield 2\n",
    "   \n",
    "    number = 3\n",
    "    while number < 1000:\n",
    "        is_prime = isPrime(number)\n",
    "        \n",
    "        if is_prime:\n",
    "            yield number\n",
    "            \n",
    "        number += 2\n",
    "\n",
    "primes = prime_numbers()\n",
    "\n",
    "for i in range(20):\n",
    "    print(next(primes),end=\" \")\n",
    "        \n",
    "# for value in prime_numbers():\n",
    "#     print(value)"
   ]
  },
  {
   "cell_type": "markdown",
   "id": "9f8006c9-ac8c-4510-a98d-91d3451b4e48",
   "metadata": {},
   "source": [
    "Q6) Write a python program to print the first 10 Fibonacci numbers using a while loop."
   ]
  },
  {
   "cell_type": "code",
   "execution_count": 7,
   "id": "2a42fef3-e766-43a2-b1b5-a0b34e78233b",
   "metadata": {},
   "outputs": [
    {
     "name": "stdout",
     "output_type": "stream",
     "text": [
      "0 1 1 2 3 5 8 13 21 34 "
     ]
    }
   ],
   "source": [
    "def fib():\n",
    "    a = 0\n",
    "    b = 1\n",
    "    n = 1\n",
    "    while n <= 10:\n",
    "        print(a,end=\" \")\n",
    "        a,b = b,a+b\n",
    "        n += 1\n",
    "        \n",
    "fib()"
   ]
  },
  {
   "cell_type": "markdown",
   "id": "cd3dcf01-41fc-41b8-836d-0235cd9aad43",
   "metadata": {},
   "source": [
    "Q7) Write a List Comprehension to iterate through the given string: ‘pwskills’.\n",
    "Expected output: ['p', 'w', 's', 'k', 'i', 'l', 'l', 's']"
   ]
  },
  {
   "cell_type": "code",
   "execution_count": null,
   "id": "0f285fc9-5b7a-401c-9618-22d22e668015",
   "metadata": {},
   "outputs": [],
   "source": []
  },
  {
   "cell_type": "markdown",
   "id": "2d43de48-89e6-4ba6-8469-072ab66efecf",
   "metadata": {},
   "source": [
    "Q8) Write a python program to check whether a given number is Palindrome or not using a while loop."
   ]
  },
  {
   "cell_type": "code",
   "execution_count": null,
   "id": "680eb46c-73cb-45f9-9baf-53f1d14b2399",
   "metadata": {},
   "outputs": [],
   "source": []
  },
  {
   "cell_type": "markdown",
   "id": "221a1f77-9dab-40f9-9770-cd9680320313",
   "metadata": {},
   "source": [
    "Q9) Write a code to print odd numbers from 1 to 100 using list comprehension.\n",
    "Note: Use a list comprehension to create a list from 1 to 100 and use another List comprehension to filter\n",
    "out odd numbers."
   ]
  },
  {
   "cell_type": "code",
   "execution_count": null,
   "id": "9b0497a6-af87-4fe3-b9b7-b6bf922fbc16",
   "metadata": {},
   "outputs": [],
   "source": []
  }
 ],
 "metadata": {
  "kernelspec": {
   "display_name": "Python 3 (ipykernel)",
   "language": "python",
   "name": "python3"
  },
  "language_info": {
   "codemirror_mode": {
    "name": "ipython",
    "version": 3
   },
   "file_extension": ".py",
   "mimetype": "text/x-python",
   "name": "python",
   "nbconvert_exporter": "python",
   "pygments_lexer": "ipython3",
   "version": "3.10.8"
  }
 },
 "nbformat": 4,
 "nbformat_minor": 5
}
